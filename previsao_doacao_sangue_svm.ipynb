{
  "nbformat": 4,
  "nbformat_minor": 0,
  "metadata": {
    "colab": {
      "provenance": [],
      "authorship_tag": "ABX9TyOLIqJrFpNNbk7l8ym1TCOr",
      "include_colab_link": true
    },
    "kernelspec": {
      "name": "python3",
      "display_name": "Python 3"
    },
    "language_info": {
      "name": "python"
    }
  },
  "cells": [
    {
      "cell_type": "markdown",
      "metadata": {
        "id": "view-in-github",
        "colab_type": "text"
      },
      "source": [
        "<a href=\"https://colab.research.google.com/github/kellyortiz/previsao-doacao-sangue-svm/blob/main/previsao_doacao_sangue_svm.ipynb\" target=\"_parent\"><img src=\"https://colab.research.google.com/assets/colab-badge.svg\" alt=\"Open In Colab\"/></a>"
      ]
    },
    {
      "cell_type": "code",
      "source": [
        "import pandas as pd\n",
        "import numpy as np\n",
        "from sklearn.model_selection import train_test_split\n",
        "from sklearn.preprocessing import StandardScaler\n",
        "from sklearn.svm import SVC\n",
        "from sklearn.metrics import confusion_matrix, accuracy_score\n",
        "import seaborn as sns\n",
        "import matplotlib.pyplot as plt\n",
        "from google.colab import files\n",
        "\n",
        "# Faça upload do arquivo CSV\n",
        "uploaded = files.upload()\n",
        "\n",
        "# Carregar o arquivo CSV com os novos doadores\n",
        "novos_dadores = pd.read_csv(\"doacao.csv\")\n",
        "\n",
        "# Renomear as colunas para que correspondam aos nomes utilizados no treinamento\n",
        "novos_dadores = novos_dadores.rename(columns={\n",
        "    \"Recência\": \"Recencia\",\n",
        "    \"Frequência\": \"Frequencia\"\n",
        "})\n",
        "\n",
        "# Dados fictícios para treinamento\n",
        "num_samples = 356\n",
        "recencia = np.random.randint(1, 30, num_samples)\n",
        "frequencia = np.random.randint(1, 10, num_samples)\n",
        "quantidade = frequencia * 500\n",
        "tempo = np.random.randint(12, 120, num_samples)\n",
        "doou = np.array([1] * 178 + [0] * 178)\n",
        "\n",
        "dados = pd.DataFrame({\"Recencia\": recencia, \"Frequencia\": frequencia, \"Quantidade\": quantidade, \"Tempo\": tempo, \"Doou\": doou})\n",
        "\n",
        "X = dados[[\"Recencia\", \"Frequencia\", \"Quantidade\", \"Tempo\"]]\n",
        "Y = dados[\"Doou\"]\n",
        "\n",
        "# Dividir os dados em treinamento e teste\n",
        "X_train, X_test, Y_train, Y_test = train_test_split(X, Y, test_size=0.1, random_state=42, stratify=Y)\n",
        "scaler = StandardScaler()\n",
        "X_train = scaler.fit_transform(X_train)\n",
        "X_test = scaler.transform(X_test)\n",
        "\n",
        "# SVM\n",
        "svm = SVC(kernel='linear', random_state=42)\n",
        "svm.fit(X_train, Y_train)\n",
        "Y_pred = svm.predict(X_test)\n",
        "matriz_confusao = confusion_matrix(Y_test, Y_pred)\n",
        "acuracia = accuracy_score(Y_test, Y_pred)\n",
        "\n",
        "novos_dadores_padronizados = scaler.transform(novos_dadores[[\"Recencia\", \"Frequencia\", \"Quantidade\", \"Tempo\"]])\n",
        "predicoes = svm.predict(novos_dadores_padronizados)\n",
        "\n",
        "# Matriz de confusão e acurácia\n",
        "print(\"Matriz de Confusão:\")\n",
        "print(matriz_confusao)\n",
        "print(f\"Acurácia: {acuracia * 100:.2f}%\")\n",
        "\n",
        "print(\"\\nPrevisões para novos doadores:\")\n",
        "print(predicoes)  # 1 significa que doaram, 0 significa que não doaram\n",
        "\n",
        "plt.figure(figsize=(6, 4))\n",
        "sns.heatmap(matriz_confusao, annot=True, fmt=\"d\", cmap=\"Purples\", xticklabels=[\"Não Doou\", \"Doou\"], yticklabels=[\"Não Doou\", \"Doou\"])\n",
        "plt.title(\"Matriz de Confusão\")\n",
        "plt.xlabel(\"Predição\")\n",
        "plt.ylabel(\"Valor Real\")\n",
        "plt.show()"
      ],
      "metadata": {
        "id": "_62THH_DTK-S"
      },
      "execution_count": null,
      "outputs": []
    }
  ]
}